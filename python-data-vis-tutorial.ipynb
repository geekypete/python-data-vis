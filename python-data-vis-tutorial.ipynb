{
 "cells": [
  {
   "cell_type": "markdown",
   "metadata": {},
   "source": [
    "## Opening and interacting with Jupyter\n",
    "We will explore the Jupyter notebook. \n",
    "Lets begin by understanding command mode."
   ]
  },
  {
   "cell_type": "markdown",
   "metadata": {},
   "source": [
    "Lets navigate to an empty cell (thats what these boxes are called). Now hit `esc`. What happens? The cell border turns blue. We are now in __command__ mode, where we can execute commands. Now hit `Enter` or `Return`. What happens? The border turns green. We are now in __edit__ mode. Notice the pencil in the upper right hand part of the screen. This is another clue."
   ]
  },
  {
   "cell_type": "markdown",
   "metadata": {},
   "source": [
    " Let's enter __command__ mode again. Press `h` to pull up the help menu. This will display common operations and their corresponding shortcuts. Lets try some simple commands to create new cells and navigate. To create a cell below your existing cell enter __command__ mode and press `b`. An easy mnemonic to remember this is b=below. To create a cell above, its `a`."
   ]
  },
  {
   "cell_type": "markdown",
   "metadata": {},
   "source": [
    "Now let's try navigating. Make sure we are still in __command__ mode. Press `j` to move down a cell. Press `k` to move back up. No good mnemonic here, but users of the VI or VIM editors may be familiar. "
   ]
  },
  {
   "cell_type": "markdown",
   "metadata": {},
   "source": [
    "Finally let's try deleting a cell. Create a new cell anywhere (above or below). Navigate to that cell. Now delete it by ensuring you are in __command__ mode and typing `dd`. "
   ]
  },
  {
   "cell_type": "markdown",
   "metadata": {},
   "source": [
    "Now we're moving! Lets try adding some content to one of our cells. A good thing about Jupyter is you don't just add code, you can add notes too! Lets try that now, see if you can replicate the following:"
   ]
  },
  {
   "cell_type": "markdown",
   "metadata": {},
   "source": [
    "## Hello World\n",
    "This is my first Jupyter markdown"
   ]
  },
  {
   "cell_type": "markdown",
   "metadata": {},
   "source": [
    "Now let's try to run some Python code! Don't worry if you don't understand the meaning of what you are doing, that will become clear soon! Lets create a new cell under the Hello World markdown cell. Now lets toggle the __Code__ cell type by entering __command__ mode and hitting `y`. "
   ]
  },
  {
   "cell_type": "code",
   "execution_count": 9,
   "metadata": {},
   "outputs": [
    {
     "name": "stdout",
     "output_type": "stream",
     "text": [
      "Hello World!\n"
     ]
    }
   ],
   "source": [
    "print('Hello World!')"
   ]
  },
  {
   "cell_type": "markdown",
   "metadata": {},
   "source": [
    "Now you know everything to start programming in Python ... lets get started!"
   ]
  },
  {
   "cell_type": "code",
   "execution_count": null,
   "metadata": {},
   "outputs": [],
   "source": []
  }
 ],
 "metadata": {
  "kernelspec": {
   "display_name": "Python 3",
   "language": "python",
   "name": "python3"
  },
  "language_info": {
   "codemirror_mode": {
    "name": "ipython",
    "version": 3
   },
   "file_extension": ".py",
   "mimetype": "text/x-python",
   "name": "python",
   "nbconvert_exporter": "python",
   "pygments_lexer": "ipython3",
   "version": "3.8.1"
  }
 },
 "nbformat": 4,
 "nbformat_minor": 4
}
